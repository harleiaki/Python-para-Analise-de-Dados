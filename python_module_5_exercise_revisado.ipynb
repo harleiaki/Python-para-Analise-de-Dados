{
  "cells": [
    {
      "cell_type": "markdown",
      "metadata": {
        "id": "view-in-github",
        "colab_type": "text"
      },
      "source": [
        "<a href=\"https://colab.research.google.com/github/harleiaki/Python-para-Analise-de-Dados/blob/main/python_module_5_exercise_revisado.ipynb\" target=\"_parent\"><img src=\"https://colab.research.google.com/assets/colab-badge.svg\" alt=\"Open In Colab\"/></a>"
      ]
    },
    {
      "cell_type": "markdown",
      "metadata": {
        "id": "KJqp9AANOCtf"
      },
      "source": [
        "<img src=\"https://raw.githubusercontent.com/andre-marcos-perez/ebac-course-utils/main/media/logo/newebac_logo_black_half.png\" alt=\"ebac-logo\">\n",
        "\n",
        "---\n",
        "\n",
        "# **Módulo** | Python: Programação Funcional\n",
        "Caderno de **Exercícios**<br>\n",
        "Professor [André Perez](https://www.linkedin.com/in/andremarcosperez/)\n",
        "\n",
        "---"
      ]
    },
    {
      "cell_type": "markdown",
      "metadata": {
        "id": "d9jDtUbDOE1-"
      },
      "source": [
        "# **Tópicos**\n",
        "\n",
        "<ol type=\"1\">\n",
        "  <li>Função lambda;</li>\n",
        "  <li>Função map;</li>\n",
        "  <li>Função filter;</li>\n",
        "  <li>Função reduce.</li>\n",
        "</ol>"
      ]
    },
    {
      "cell_type": "markdown",
      "metadata": {
        "id": "SmoHgt-lwkpD"
      },
      "source": [
        "---"
      ]
    },
    {
      "cell_type": "markdown",
      "metadata": {
        "id": "GABI6OW8OfQ2"
      },
      "source": [
        "# **Exercícios**"
      ]
    },
    {
      "cell_type": "markdown",
      "metadata": {
        "id": "muD1vxozykSC"
      },
      "source": [
        "## 0\\. Preparação do ambiente"
      ]
    },
    {
      "cell_type": "markdown",
      "metadata": {
        "id": "ahrFfCuBxJKs"
      },
      "source": [
        "Neste exercício vamos trabalhar com o arquivo csv com dados de crédito, definido abaixo. Execute cada uma das células de código para escrever os arquivos na sua máquina virtual."
      ]
    },
    {
      "cell_type": "code",
      "execution_count": 16,
      "metadata": {
        "id": "Kjt3HvFX7C3A",
        "colab": {
          "base_uri": "https://localhost:8080/"
        },
        "outputId": "3910b386-af4a-4a5a-f439-d4ec81263312"
      },
      "outputs": [
        {
          "output_type": "stream",
          "name": "stdout",
          "text": [
            "Overwriting credito.csv\n"
          ]
        }
      ],
      "source": [
        "%%writefile credito.csv\n",
        "id_vendedor,valor_emprestimos,quantidade_emprestimos,data\n",
        "104271,448.0,1,20161208\n",
        "21476,826.7,3,20161208\n",
        "87440,313.6,3,20161208\n",
        "15980,-8008.0,6,20161208\n",
        "215906,2212.0,5,20161208\n",
        "33696,2771.3,2,20161208\n",
        "33893,2240.0,3,20161208\n",
        "214946,-4151.0,18,20161208\n",
        "123974,2021.95,2,20161208\n",
        "225870,4039.0,2,20161208"
      ]
    },
    {
      "cell_type": "markdown",
      "metadata": {
        "id": "tnhM9v2X7yGS"
      },
      "source": [
        "Vamos ler o conteúdo do arquivo em uma lista onde cada elemento é um dicionário representando as linhas do arquivo."
      ]
    },
    {
      "cell_type": "code",
      "execution_count": 17,
      "metadata": {
        "id": "T00Y_WIh7uPU"
      },
      "outputs": [],
      "source": [
        "emprestimos = []\n",
        "with open(file='./credito.csv', mode='r', encoding='utf8') as fp:\n",
        "  fp.readline() # cabeçalho\n",
        "  linha = fp.readline()\n",
        "  while linha:\n",
        "    linha_emprestimo = {}\n",
        "    linha_elementos = linha.strip().split(sep=',')\n",
        "    linha_emprestimo['id_vendedor'] = linha_elementos[0]\n",
        "    linha_emprestimo['valor_emprestimos'] = linha_elementos[1]\n",
        "    linha_emprestimo['quantidade_emprestimos'] = linha_elementos[2]\n",
        "    linha_emprestimo['data'] = linha_elementos[3]\n",
        "    emprestimos.append(linha_emprestimo)\n",
        "    linha = fp.readline()"
      ]
    },
    {
      "cell_type": "code",
      "execution_count": 18,
      "metadata": {
        "id": "Bp0ZgdTM84bw",
        "colab": {
          "base_uri": "https://localhost:8080/"
        },
        "outputId": "e495ed2c-5ad4-4521-c95d-c411b356513d"
      },
      "outputs": [
        {
          "output_type": "stream",
          "name": "stdout",
          "text": [
            "{'id_vendedor': '104271', 'valor_emprestimos': '448.0', 'quantidade_emprestimos': '1', 'data': '20161208'}\n",
            "{'id_vendedor': '21476', 'valor_emprestimos': '826.7', 'quantidade_emprestimos': '3', 'data': '20161208'}\n",
            "{'id_vendedor': '87440', 'valor_emprestimos': '313.6', 'quantidade_emprestimos': '3', 'data': '20161208'}\n",
            "{'id_vendedor': '15980', 'valor_emprestimos': '-8008.0', 'quantidade_emprestimos': '6', 'data': '20161208'}\n",
            "{'id_vendedor': '215906', 'valor_emprestimos': '2212.0', 'quantidade_emprestimos': '5', 'data': '20161208'}\n",
            "{'id_vendedor': '33696', 'valor_emprestimos': '2771.3', 'quantidade_emprestimos': '2', 'data': '20161208'}\n",
            "{'id_vendedor': '33893', 'valor_emprestimos': '2240.0', 'quantidade_emprestimos': '3', 'data': '20161208'}\n",
            "{'id_vendedor': '214946', 'valor_emprestimos': '-4151.0', 'quantidade_emprestimos': '18', 'data': '20161208'}\n",
            "{'id_vendedor': '123974', 'valor_emprestimos': '2021.95', 'quantidade_emprestimos': '2', 'data': '20161208'}\n",
            "{'id_vendedor': '225870', 'valor_emprestimos': '4039.0', 'quantidade_emprestimos': '2', 'data': '20161208'}\n"
          ]
        }
      ],
      "source": [
        "for emprestimo in emprestimos:\n",
        "  print(emprestimo)"
      ]
    },
    {
      "cell_type": "markdown",
      "metadata": {
        "id": "KI9zQRT2xa7m"
      },
      "source": [
        "## 1\\. Função `map`\n",
        "\n"
      ]
    },
    {
      "cell_type": "markdown",
      "metadata": {
        "id": "U63MjM7H7o1Y"
      },
      "source": [
        "Aplique a função map na lista de `emprestimos` para extrair os valores da chave `valor_emprestimos` na lista `valor_emprestimos_lista`. Faça também a conversão de `str` para `float`."
      ]
    },
    {
      "cell_type": "code",
      "execution_count": 58,
      "metadata": {
        "id": "-yAW4PJh9h7a",
        "outputId": "e4a4592f-accd-44e8-f281-8e6fcd5a7aab",
        "colab": {
          "base_uri": "https://localhost:8080/"
        }
      },
      "outputs": [
        {
          "output_type": "stream",
          "name": "stdout",
          "text": [
            "[448.0, 826.7, 313.6, -8008.0, 2212.0, 2771.3, 2240.0, -4151.0, 2021.95, 4039.0]\n"
          ]
        }
      ],
      "source": [
        "from operator import itemgetter\n",
        "\n",
        "# Aplicar a função map para extrair e converter os valores\n",
        "valor_emprestimos_lista = list(map(itemgetter('valor_emprestimos'), emprestimos))\n",
        "# Agora valor_emprestimos_lista contém os valores de empréstimos como floats\n",
        "valor_emprestimos_lista = [float(i) for i in valor_emprestimos_lista]\n",
        "\n",
        "print(valor_emprestimos_lista) # [448.0, 826.7, ..., 4039.0]"
      ]
    },
    {
      "cell_type": "markdown",
      "metadata": {
        "id": "zMN1Q3jdwoJm"
      },
      "source": [
        "---"
      ]
    },
    {
      "cell_type": "markdown",
      "metadata": {
        "id": "WKHvMtFX_JKH"
      },
      "source": [
        "## 2\\. Função `filter`\n",
        "\n"
      ]
    },
    {
      "cell_type": "markdown",
      "metadata": {
        "id": "6V34N3Lf_gUM"
      },
      "source": [
        "Aplique a função filter na lista de `valor_emprestimos_lista` para filtrar apenas os valores maiores que zero (os valores negativas são erros na base de dados). Salve os valores na lista `valor_emprestimos_lista_filtrada`."
      ]
    },
    {
      "cell_type": "code",
      "execution_count": 59,
      "metadata": {
        "id": "3y7Vmm0yACuk",
        "outputId": "527c959a-14b5-4a3c-d05b-ad5a5c452125",
        "colab": {
          "base_uri": "https://localhost:8080/"
        }
      },
      "outputs": [
        {
          "output_type": "stream",
          "name": "stdout",
          "text": [
            "[448.0, 826.7, 313.6, 2212.0, 2771.3, 2240.0, 2021.95, 4039.0]\n"
          ]
        }
      ],
      "source": [
        "# Usando a função filter com uma expressão lambda para filtrar os valores maiores que 0.0\n",
        "valor_emprestimos_lista_filtrada = list(filter(lambda x: x > 0.0, valor_emprestimos_lista))\n",
        "\n",
        "# valor_emprestimos_lista_filtrada agora contém apenas os valores maiores que 0.0\n",
        "print(valor_emprestimos_lista_filtrada)"
      ]
    },
    {
      "cell_type": "markdown",
      "metadata": {
        "id": "4yqCAVCo_Yp3"
      },
      "source": [
        "---"
      ]
    },
    {
      "cell_type": "markdown",
      "metadata": {
        "id": "s4TzfRxC_Yp4"
      },
      "source": [
        "## 3\\. Função `reduce`\n",
        "\n"
      ]
    },
    {
      "cell_type": "markdown",
      "metadata": {
        "id": "RwV4V7gDAWfJ"
      },
      "source": [
        "Com a nossa lista de valores de emprestimo pronta, vamos extrair algumas métricas."
      ]
    },
    {
      "cell_type": "markdown",
      "metadata": {
        "id": "zjXA6H0LAf1_"
      },
      "source": [
        "### 3\\.1\\. Função `reduce` para extrair a **soma**"
      ]
    },
    {
      "cell_type": "markdown",
      "metadata": {
        "id": "u1kxPpkUArKw"
      },
      "source": [
        "Aplique a função reduce para somar os elementos da lista `valor_emprestimos_lista_filtrada` na variavel `soma_valor_emprestimos`."
      ]
    },
    {
      "cell_type": "code",
      "execution_count": 60,
      "metadata": {
        "id": "ptAFEVpMAr6_",
        "outputId": "c8bedbcf-8824-4e83-d799-d6ceaf6350b0",
        "colab": {
          "base_uri": "https://localhost:8080/"
        }
      },
      "outputs": [
        {
          "output_type": "stream",
          "name": "stdout",
          "text": [
            "14872.550000000001\n"
          ]
        }
      ],
      "source": [
        "from functools import reduce\n",
        "import operator\n",
        "\n",
        "# Função para somar dois valores\n",
        "def somar_valores(x, y):\n",
        "    return x + y\n",
        "\n",
        "# Aplicar a função reduce para somar os elementos da lista\n",
        "soma_valor_emprestimos = reduce(somar_valores, valor_emprestimos_lista_filtrada)\n",
        "\n",
        "# O resultado da soma será armazenado em soma_valor_emprestimos\n",
        "print(soma_valor_emprestimos)"
      ]
    },
    {
      "cell_type": "markdown",
      "metadata": {
        "id": "v8h9TkYqBLPn"
      },
      "source": [
        "### 3\\.2\\. Função `reduce` para extrair a **media aritimética**"
      ]
    },
    {
      "cell_type": "markdown",
      "metadata": {
        "id": "VXsNI53NBLPo"
      },
      "source": [
        "Aplique a função reduce para extrair a média aritimética (mais informações [aqui](https://pt.wikipedia.org/wiki/M%C3%A9dia#M%C3%A9dia_aritm%C3%A9tica)) dos elementos da lista `valor_emprestimos_lista_filtrada` na variavel `media_valor_emprestimos`.\n",
        "\n",
        "Dica: Para calcular o tamanho da lista, isto é a quantidade de elementos, utilize a função len(), dentro do argumento da função coloque a lista `valor_emprestimos_lista_filtrada`."
      ]
    },
    {
      "cell_type": "code",
      "execution_count": 63,
      "metadata": {
        "id": "qbWv8a2GBLPp",
        "outputId": "d124491e-1e9f-48ae-f2ad-490ab069c654",
        "colab": {
          "base_uri": "https://localhost:8080/"
        }
      },
      "outputs": [
        {
          "output_type": "stream",
          "name": "stdout",
          "text": [
            "1859.0687500000001\n"
          ]
        }
      ],
      "source": [
        "from functools import reduce\n",
        "\n",
        "# Aplicar a função reduce para somar os elementos da lista\n",
        "soma_valor_emprestimos = reduce(somar_valores, valor_emprestimos_lista_filtrada)\n",
        "\n",
        "# Calcular a média dividindo a soma pelo número de elementos\n",
        "media_valor_emprestimos = soma_valor_emprestimos / len(valor_emprestimos_lista_filtrada)\n",
        "\n",
        "# O resultado da média será armazenado em media_valor_emprestimos\n",
        "print(media_valor_emprestimos)"
      ]
    },
    {
      "cell_type": "markdown",
      "metadata": {
        "id": "rCwM3DcJBeyB"
      },
      "source": [
        "### 3\\.3\\. (**Desafio**) Função `reduce` para extrair o **desvio padrão amostral**"
      ]
    },
    {
      "cell_type": "markdown",
      "metadata": {
        "id": "jw3azoT_BeyC"
      },
      "source": [
        "Aplique a função reduce para extrair a média aritimética (mais informações [aqui](https://pt.wikipedia.org/wiki/M%C3%A9dia#M%C3%A9dia_aritm%C3%A9tica)) dos elementos da lista `valor_emprestimos_lista_filtrada` na variavel `desvio_padrao_valor_emprestimos`.\n",
        "\n"
      ]
    },
    {
      "cell_type": "code",
      "execution_count": 74,
      "metadata": {
        "id": "8HnNxp9mBeyD",
        "outputId": "ad8b37ee-101a-4422-c8b6-81aad281f222",
        "colab": {
          "base_uri": "https://localhost:8080/"
        }
      },
      "outputs": [
        {
          "output_type": "stream",
          "name": "stdout",
          "text": [
            "1271.9972711497849\n"
          ]
        }
      ],
      "source": [
        "from functools import reduce\n",
        "from math import sqrt\n",
        "\n",
        "# Função para calcular a média\n",
        "def calcular_media(lista):\n",
        "    return sum(lista) / len(lista)\n",
        "\n",
        "# Calcula a média\n",
        "media_valor_emprestimos = calcular_media(valor_emprestimos_lista_filtrada)\n",
        "\n",
        "# Função para calcular a diferença ao quadrado\n",
        "def calcular_diferenca_quadrado(x, media):\n",
        "    return (x - media) ** 2\n",
        "\n",
        "# Aplica a função reduce para calcular a soma das diferenças ao quadrado\n",
        "soma_diferencas_quadrado = reduce(\n",
        "    lambda x, y: x + y, map(lambda x: calcular_diferenca_quadrado(x, media_valor_emprestimos), valor_emprestimos_lista_filtrada)\n",
        ")\n",
        "\n",
        "# Calcula a variância dividindo a soma pelo número de elementos menos 1\n",
        "variancia_valor_emprestimos = soma_diferencas_quadrado / (len(valor_emprestimos_lista_filtrada) - 1)\n",
        "\n",
        "# Calcula o desvio padrão aplicando a raiz quadrada à variância\n",
        "desvio_padrao_valor_emprestimos = math.sqrt(variancia_valor_emprestimos)\n",
        "\n",
        "# O resultado do desvio padrão será armazenado em desvio_padrao_valor_emprestimos\n",
        "print(desvio_padrao_valor_emprestimos)"
      ]
    },
    {
      "cell_type": "markdown",
      "source": [
        "# Desafio extra"
      ],
      "metadata": {
        "id": "xWD-ilsmdCGe"
      }
    },
    {
      "cell_type": "markdown",
      "metadata": {
        "id": "ai2mZYnG_b_s"
      },
      "source": [
        "---"
      ]
    },
    {
      "cell_type": "markdown",
      "source": [
        "Usar a função 'map' para fazer a subtração de cada elemento de 'valor_emprestimos_lista_filtrada' pela média dos valores e elevar essa diferença ao quadrado.\n",
        "Dica: x: elementos de 'valor_emprestimos_lista_filtrada'\n",
        "media_valor_emprestimos: média dos valores 'valor_emprestimos_lista_filtrada'\n",
        "Diferença da média de cada elemento elevado ao quadrado: (x - media_valor_emprestimos)**2\n"
      ],
      "metadata": {
        "id": "IXcyZULzdLgf"
      }
    },
    {
      "cell_type": "code",
      "source": [
        "valor_emprestimos_lista_filtrada = [448.0, 826.7, 313.6, 2212.0, 2771.3, 2240.0, 2021.95, 4039.0]\n",
        "\n",
        "# Calcula a média dos valores em 'valor_emprestimos_lista_filtrada'\n",
        "media_valor_emprestimos = sum(valor_emprestimos_lista_filtrada) / len(valor_emprestimos_lista_filtrada)\n",
        "\n",
        "# Define uma função para calcular a diferença quadrática\n",
        "def calcular_diferenca_quadrado(x):\n",
        "    return (x - media_valor_emprestimos) ** 2\n",
        "\n",
        "# Usa a função map() para aplicar a função a cada elemento da lista\n",
        "diferenca_quadrado = list(map(calcular_diferenca_quadrado, valor_emprestimos_lista_filtrada))\n",
        "\n",
        "print(\"Média dos valores:\", media_valor_emprestimos)\n",
        "print(\"Diferença quadrado para cada elemento:\", diferenca_quadrado)"
      ],
      "metadata": {
        "id": "VUusfqMNSVW9",
        "outputId": "ec508332-e7de-4738-ddae-8be1a7ae9470",
        "colab": {
          "base_uri": "https://localhost:8080/"
        }
      },
      "execution_count": 68,
      "outputs": [
        {
          "output_type": "stream",
          "name": "stdout",
          "text": [
            "Média dos valores: 1859.0687500000001\n",
            "Diferença quadrado para cada elemento: [1991115.0172265628, 1065785.2359765626, 2388473.6572265625, 124560.46722656241, 832165.8534765625, 145108.6172265624, 26530.30160156247, 4752100.254726561]\n"
          ]
        }
      ]
    },
    {
      "cell_type": "markdown",
      "source": [
        "Usar a função 'reduce' para somar os valores obtidos no passo 1)\n"
      ],
      "metadata": {
        "id": "YvXePvJ3dPlH"
      }
    },
    {
      "cell_type": "code",
      "source": [
        "# Usa a função reduce() para somar os valores da lista de diferenças quadráticas\n",
        "soma_diferenca_quadrado = reduce(lambda x, y: x + y, diferenca_quadrado)\n",
        "\n",
        "print(\"Soma das diferenças quadrado:\", soma_diferenca_quadrado)\n"
      ],
      "metadata": {
        "id": "NWyo39PQU10x",
        "outputId": "54c697e4-e50c-44d0-9321-f10c3c4cb46f",
        "colab": {
          "base_uri": "https://localhost:8080/"
        }
      },
      "execution_count": 69,
      "outputs": [
        {
          "output_type": "stream",
          "name": "stdout",
          "text": [
            "Soma das diferenças quadrado: 11325839.404687498\n"
          ]
        }
      ]
    },
    {
      "cell_type": "markdown",
      "source": [
        "Converter os valores obtidos no passo 2) para o tipo 'float'"
      ],
      "metadata": {
        "id": "gduSocijdSt3"
      }
    },
    {
      "cell_type": "code",
      "source": [
        "soma_diferenca_quadrado_float = float(soma_diferenca_quadrado)\n",
        "\n",
        "print(\"Soma das diferenças quadrado (float):\", soma_diferenca_quadrado_float)"
      ],
      "metadata": {
        "id": "6236ggWiWiJ2",
        "outputId": "15a9f81d-6316-42bd-d042-e4ef15e7cbda",
        "colab": {
          "base_uri": "https://localhost:8080/"
        }
      },
      "execution_count": 70,
      "outputs": [
        {
          "output_type": "stream",
          "name": "stdout",
          "text": [
            "Soma das diferenças quadrado (float): 11325839.404687498\n"
          ]
        }
      ]
    },
    {
      "cell_type": "markdown",
      "source": [
        "Dividir o resultado do passo 3) por 'len(valor_emprestimos_lista_filtrada) - 1'"
      ],
      "metadata": {
        "id": "V6hyLB72dVOg"
      }
    },
    {
      "cell_type": "code",
      "source": [
        "# Calcula o denominador\n",
        "denominador = len(valor_emprestimos_lista_filtrada) - 1\n",
        "\n",
        "# Divide a soma das diferenças quadrado pelo denominador\n",
        "resultado_final = soma_diferenca_quadrado_float / denominador\n",
        "\n",
        "print(\"Resultado final:\", resultado_final)"
      ],
      "metadata": {
        "id": "jLUPN981XMtL",
        "outputId": "0d175f7c-1a29-4c83-cf62-5f84421399a1",
        "colab": {
          "base_uri": "https://localhost:8080/"
        }
      },
      "execution_count": 71,
      "outputs": [
        {
          "output_type": "stream",
          "name": "stdout",
          "text": [
            "Resultado final: 1617977.0578124996\n"
          ]
        }
      ]
    },
    {
      "cell_type": "markdown",
      "source": [
        "Ao final, vai extrair a raiz quadrada do resultada de todo esse processo. Para a extração, utilize a seguinte função:\n",
        "\n",
        "Função 'sqrt()': para usar, importe a função (mostrado abaixo), depois use o comando 'sqrt()' colocando o valor que você deseja extrair a raiz quadrada dentro do argumento da função. Exemplo: extrair a raiz quadrada de 'x': sqrt(x)\n",
        "\n",
        "from math import sqrt\n"
      ],
      "metadata": {
        "id": "ueBhaMLvdauT"
      }
    },
    {
      "cell_type": "code",
      "source": [
        "from math import sqrt\n",
        "\n",
        "# Agora você pode usar a função sqrt() diretamente\n",
        "valor = 1271.9972711497849\n",
        "raiz_quadrada = sqrt(valor)\n",
        "print(\"A raiz quadrada de\", valor, \"é\", raiz_quadrada)\n"
      ],
      "metadata": {
        "id": "B62GN8XhX3cz",
        "outputId": "e3af87c0-3b21-4040-fb15-5d531c71396b",
        "colab": {
          "base_uri": "https://localhost:8080/"
        }
      },
      "execution_count": 72,
      "outputs": [
        {
          "output_type": "stream",
          "name": "stdout",
          "text": [
            "A raiz quadrada de 1271.9972711497849 é 35.66507074365317\n"
          ]
        }
      ]
    },
    {
      "cell_type": "code",
      "source": [],
      "metadata": {
        "id": "QjJWkwggc-0F"
      },
      "execution_count": 72,
      "outputs": []
    }
  ],
  "metadata": {
    "colab": {
      "provenance": [],
      "toc_visible": true,
      "include_colab_link": true
    },
    "kernelspec": {
      "display_name": "Python 3 (ipykernel)",
      "language": "python",
      "name": "python3"
    },
    "language_info": {
      "codemirror_mode": {
        "name": "ipython",
        "version": 3
      },
      "file_extension": ".py",
      "mimetype": "text/x-python",
      "name": "python",
      "nbconvert_exporter": "python",
      "pygments_lexer": "ipython3",
      "version": "3.9.7"
    }
  },
  "nbformat": 4,
  "nbformat_minor": 0
}